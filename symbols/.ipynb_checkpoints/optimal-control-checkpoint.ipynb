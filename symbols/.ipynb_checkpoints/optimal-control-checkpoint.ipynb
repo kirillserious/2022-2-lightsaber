{
 "cells": [
  {
   "cell_type": "code",
   "execution_count": 1,
   "metadata": {},
   "outputs": [],
   "source": [
    "import sympy"
   ]
  },
  {
   "cell_type": "code",
   "execution_count": 2,
   "metadata": {},
   "outputs": [
    {
     "data": {
      "text/latex": [
       "$\\displaystyle A_{k} \\delta x_{k} + B_{k} \\delta u_{k}$"
      ],
      "text/plain": [
       "A_k*\\delta x_k + B_k*\\delta u_k"
      ]
     },
     "execution_count": 2,
     "metadata": {},
     "output_type": "execute_result"
    }
   ],
   "source": [
    "n, m = sympy.symbols('n m')\n",
    "A_k = sympy.MatrixSymbol('A_k', n, n)\n",
    "B_k = sympy.MatrixSymbol('B_k', n, m)\n",
    "\n",
    "x_k = sympy.MatrixSymbol('x_k', n, 1)\n",
    "u_k = sympy.MatrixSymbol('u_k', m, 1)\n",
    "delta_x_k = sympy.MatrixSymbol('\\delta x_k', n, 1)\n",
    "delta_u_k = sympy.MatrixSymbol('\\delta u_k', m, 1)\n",
    "\n",
    "A_k * delta_x_k + B_k * delta_u_k"
   ]
  },
  {
   "cell_type": "code",
   "execution_count": 7,
   "metadata": {},
   "outputs": [
    {
     "data": {
      "text/latex": [
       "$\\displaystyle \\left(\\delta x_{k}^{T} + x_{k}^{T}\\right) Q_{k} \\left(\\delta x_{k} + x_{k}\\right) + \\hat q_{k} + q_{k}^{T} \\left(\\delta x_{k} + x_{k}\\right)$"
      ],
      "text/plain": [
       "(\\delta x_k.T + x_k.T)*Q_k*(\\delta x_k + x_k) + \\hat q_k + q_k.T*(\\delta x_k + x_k)"
      ]
     },
     "execution_count": 7,
     "metadata": {},
     "output_type": "execute_result"
    }
   ],
   "source": [
    "q_init_k = sympy.MatrixSymbol('\\hat q_k', 1, 1)\n",
    "q_k = sympy.MatrixSymbol('q_k', n, 1)\n",
    "Q_k = sympy.MatrixSymbol('Q_k', n, n)\n",
    "q_init_N = sympy.MatrixSymbol('\\hat q_N', 1, 1)\n",
    "q_N = sympy.MatrixSymbol('q_N', n, 1)\n",
    "Q_N = sympy.MatrixSymbol('Q_N', n, m)\n",
    "r_init_k = sympy.MatrixSymbol('\\hat r_k', 1, 1)\n",
    "r_k = sympy.MatrixSymbol('r_k', m, 1)\n",
    "R_k = sympy.MatrixSymbol('R_k', m, m)\n",
    "\n",
    "x_star = sympy.MatrixSymbol('x^*', n, 1)\n",
    "\n",
    "q_init_k + q_k.T * (x_k + delta_x_k) + (x_k + delta_x_k).T * Q_k * (x_k + delta_x_k)"
   ]
  },
  {
   "cell_type": "code",
   "execution_count": 12,
   "metadata": {},
   "outputs": [
    {
     "data": {
      "text/latex": [
       "$\\displaystyle \\left(\\frac{1}{2}\\right) \\left(\\delta u_{k}^{T} + u_{k}^{T}\\right) R_{k} \\left(\\delta u_{k} + u_{k}\\right) + \\left(\\frac{1}{2}\\right) \\left(\\delta x_{k}^{T} + x_{k}^{T}\\right) Q_{k} \\left(\\delta x_{k} + x_{k}\\right) + \\hat q_{k} + \\hat r_{k} + \\lambda_{k+1}^{T} \\left(A_{k} \\delta x_{k} + B_{k} \\delta u_{k}\\right) + q_{k}^{T} \\left(\\delta x_{k} + x_{k}\\right) + r_{k}^{T} \\left(\\delta u_{k} + u_{k}\\right)$"
      ],
      "text/plain": [
       "(1/2)*(\\delta u_k.T + u_k.T)*R_k*(\\delta u_k + u_k) + (1/2)*(\\delta x_k.T + x_k.T)*Q_k*(\\delta x_k + x_k) + \\hat q_k + \\hat r_k + \\lambda_{k+1}.T*(A_k*\\delta x_k + B_k*\\delta u_k) + q_k.T*(\\delta x_k + x_k) + r_k.T*(\\delta u_k + u_k)"
      ]
     },
     "execution_count": 12,
     "metadata": {},
     "output_type": "execute_result"
    }
   ],
   "source": [
    "lambda_k_plus_1 = sympy.MatrixSymbol('\\lambda_{k+1}', n, 1)\n",
    "\n",
    "H = q_init_k + q_k.T * (x_k + delta_x_k) + (x_k + delta_x_k).T * Q_k * (x_k + delta_x_k)/2 + r_init_k + r_k.T*(u_k + delta_u_k) + (u_k + delta_u_k).T * R_k * (u_k + delta_u_k)/2 + lambda_k_plus_1.T * (A_k*delta_x_k + B_k * delta_u_k)\n",
    "H"
   ]
  },
  {
   "cell_type": "code",
   "execution_count": 15,
   "metadata": {},
   "outputs": [
    {
     "data": {
      "text/latex": [
       "$\\displaystyle \\left(\\frac{1}{2}\\right) Q_{k} \\left(\\delta x_{k} + x_{k}\\right) + q_{k} + A_{k}^{T} \\lambda_{k+1} + \\left(\\frac{1}{2}\\right) Q_{k}^{T} \\left(\\delta x_{k} + x_{k}\\right)$"
      ],
      "text/plain": [
       "(1/2)*Q_k*(\\delta x_k + x_k) + q_k + A_k.T*\\lambda_{k+1} + (1/2)*Q_k.T*(\\delta x_k + x_k)"
      ]
     },
     "execution_count": 15,
     "metadata": {},
     "output_type": "execute_result"
    }
   ],
   "source": [
    "H.diff(delta_x_k)"
   ]
  },
  {
   "cell_type": "code",
   "execution_count": null,
   "metadata": {},
   "outputs": [],
   "source": []
  }
 ],
 "metadata": {
  "kernelspec": {
   "display_name": "Python 3 (ipykernel)",
   "language": "python",
   "name": "python3"
  },
  "language_info": {
   "codemirror_mode": {
    "name": "ipython",
    "version": 3
   },
   "file_extension": ".py",
   "mimetype": "text/x-python",
   "name": "python",
   "nbconvert_exporter": "python",
   "pygments_lexer": "ipython3",
   "version": "3.9.6"
  }
 },
 "nbformat": 4,
 "nbformat_minor": 2
}

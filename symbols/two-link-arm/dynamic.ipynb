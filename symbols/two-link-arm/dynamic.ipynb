{
 "cells": [
  {
   "cell_type": "code",
   "execution_count": 1,
   "metadata": {},
   "outputs": [],
   "source": [
    "import sympy"
   ]
  },
  {
   "cell_type": "code",
   "execution_count": 4,
   "metadata": {},
   "outputs": [],
   "source": [
    "# Параметры программы\n",
    "links_count = 2\n",
    "calculate_inertia = False #True\n",
    "\n",
    "# Константы\n",
    "g = sympy.Symbol('g') # Ускорение свободного падения\n",
    "\n",
    "# Параметры задачи\n",
    "## Длина каждого звена\n",
    "l = sympy.IndexedBase('l')\n",
    "\n",
    "## Масса каждого звена \n",
    "m = sympy.IndexedBase('m')\n",
    "\n",
    "## Моменты инерции каждого звена\n",
    "if calculate_inertia:\n",
    "    I = [\n",
    "        m[i] * l[i] * l[i] / 3\n",
    "        for i in range(0, links_count)\n",
    "    ]\n",
    "else:\n",
    "    I = sympy.IndexedBase('I')"
   ]
  },
  {
   "attachments": {},
   "cell_type": "markdown",
   "metadata": {},
   "source": [
    "$$\n",
    "    u = M(q)\\ddot q + L(q, \\dot q)\n",
    "$$\n",
    "\n",
    "Тогда в силу $M(q) > 0$ имеем\n",
    "\n",
    "$$\n",
    "    \\ddot q = M^{-1}(q)(u - L(q, \\dot q))\n",
    "$$"
   ]
  },
  {
   "cell_type": "code",
   "execution_count": 28,
   "metadata": {},
   "outputs": [
    {
     "data": {
      "text/latex": [
       "$\\displaystyle \\left[\\begin{matrix}\\frac{g \\cos{\\left(q_{0}{\\left(t \\right)} \\right)} {l}_{0} {m}_{0}}{2} + g \\cos{\\left(q_{0}{\\left(t \\right)} \\right)} {l}_{0} {m}_{1} + \\frac{\\sin{\\left(q_{0}{\\left(t \\right)} - q_{1}{\\left(t \\right)} \\right)} \\left(\\frac{d}{d t} q_{1}{\\left(t \\right)}\\right)^{2} {l}_{0} {l}_{1} {m}_{1}}{2} + \\frac{\\cos{\\left(q_{0}{\\left(t \\right)} - q_{1}{\\left(t \\right)} \\right)} \\frac{d^{2}}{d t^{2}} q_{1}{\\left(t \\right)} {l}_{0} {l}_{1} {m}_{1}}{2} + \\frac{d^{2}}{d t^{2}} q_{0}{\\left(t \\right)} {I}_{0} + \\frac{\\frac{d^{2}}{d t^{2}} q_{0}{\\left(t \\right)} {l}_{0}^{2} {m}_{0}}{4} + \\frac{d^{2}}{d t^{2}} q_{0}{\\left(t \\right)} {l}_{0}^{2} {m}_{1}\\\\\\frac{g \\cos{\\left(q_{1}{\\left(t \\right)} \\right)} {l}_{1} {m}_{1}}{2} - \\frac{\\sin{\\left(q_{0}{\\left(t \\right)} - q_{1}{\\left(t \\right)} \\right)} \\left(\\frac{d}{d t} q_{0}{\\left(t \\right)}\\right)^{2} {l}_{0} {l}_{1} {m}_{1}}{2} + \\frac{\\cos{\\left(q_{0}{\\left(t \\right)} - q_{1}{\\left(t \\right)} \\right)} \\frac{d^{2}}{d t^{2}} q_{0}{\\left(t \\right)} {l}_{0} {l}_{1} {m}_{1}}{2} + \\frac{d^{2}}{d t^{2}} q_{1}{\\left(t \\right)} {I}_{1} + \\frac{\\frac{d^{2}}{d t^{2}} q_{1}{\\left(t \\right)} {l}_{1}^{2} {m}_{1}}{4}\\end{matrix}\\right]$"
      ],
      "text/plain": [
       "Matrix([\n",
       "[g*cos(q_0(t))*l[0]*m[0]/2 + g*cos(q_0(t))*l[0]*m[1] + sin(q_0(t) - q_1(t))*Derivative(q_1(t), t)**2*l[0]*l[1]*m[1]/2 + cos(q_0(t) - q_1(t))*Derivative(q_1(t), (t, 2))*l[0]*l[1]*m[1]/2 + Derivative(q_0(t), (t, 2))*I[0] + Derivative(q_0(t), (t, 2))*l[0]**2*m[0]/4 + Derivative(q_0(t), (t, 2))*l[0]**2*m[1]],\n",
       "[                                                                    g*cos(q_1(t))*l[1]*m[1]/2 - sin(q_0(t) - q_1(t))*Derivative(q_0(t), t)**2*l[0]*l[1]*m[1]/2 + cos(q_0(t) - q_1(t))*Derivative(q_0(t), (t, 2))*l[0]*l[1]*m[1]/2 + Derivative(q_1(t), (t, 2))*I[1] + Derivative(q_1(t), (t, 2))*l[1]**2*m[1]/4]])"
      ]
     },
     "execution_count": 28,
     "metadata": {},
     "output_type": "execute_result"
    }
   ],
   "source": [
    "# Фазовые переменные\n",
    "t = sympy.symbols('t')\n",
    "q = [sympy.Function('q_'+str(i))(t) for i in range(0, links_count)]\n",
    "\n",
    "dot_q = [\n",
    "    sympy.diff(q[i], t)\n",
    "    for i in range(0, links_count)\n",
    "]\n",
    "\n",
    "# Положение центра каждого звена\n",
    "x_center = [\n",
    "    sum([l[j] * sympy.cos(q[j]) for j in range(0, i)]) + l[i]/2*sympy.cos(q[i])\n",
    "    for i in range(0, links_count)\n",
    "]\n",
    "\n",
    "y_center = [\n",
    "    sum([l[j]*sympy.sin(q[j]) for j in range(0, i)]) + l[i]/2*sympy.sin(q[i])\n",
    "    for i in range(0, links_count)\n",
    "]\n",
    "\n",
    "# Скорость центра каждого звена в квадрате\n",
    "v_square = [\n",
    "    sympy.diff(x_center[i], t)**2 + sympy.diff(y_center[i], t)**2\n",
    "    for i in range(0, links_count)\n",
    "]\n",
    "\n",
    "# Скорость вращения каждого звена\n",
    "omega = [\n",
    "    dot_q[i]\n",
    "    for i in range(0, links_count)\n",
    "]\n",
    "\n",
    "# Общая кинетическая энегия системы\n",
    "K = sum([\n",
    "    m[i] * v_square[i]/2 + I[i] * omega[i] * omega[i] / 2 \n",
    "    for i in range(0, links_count)\n",
    "])\n",
    "\n",
    "# Общая потенциальная энергия системы\n",
    "Pi = sum([\n",
    "    m[i] * g * y_center[i]\n",
    "    for i in range(0, links_count)\n",
    "])\n",
    "\n",
    "# Лангражиан\n",
    "L = K - Pi\n",
    "\n",
    "# Моменты внешних сил\n",
    "tau = [\n",
    "    sympy.simplify(sympy.diff(sympy.diff(L, dot_q[i]), t) - sympy.diff(L, q[i]))\n",
    "    for i in range(0, links_count)\n",
    "]\n",
    "\n",
    "tau_vec = sympy.matrices.Matrix([tau[i] for i in range(links_count)])\n",
    "\n",
    "sympy.simplify(tau_vec)"
   ]
  },
  {
   "cell_type": "code",
   "execution_count": 29,
   "metadata": {},
   "outputs": [
    {
     "data": {
      "text/latex": [
       "$\\displaystyle \\left[\\begin{matrix}\\frac{g \\cos{\\left({z}_{0} \\right)} {l}_{0} {m}_{0}}{2} + g \\cos{\\left({z}_{0} \\right)} {l}_{0} {m}_{1} + \\frac{\\sin{\\left({z}_{0} - {z}_{1} \\right)} {l}_{0} {l}_{1} {m}_{1} {z}_{3}^{2}}{2} + \\frac{\\cos{\\left({z}_{0} - {z}_{1} \\right)} {\\dot z}_{3} {l}_{0} {l}_{1} {m}_{1}}{2} + {I}_{0} {\\dot z}_{2} + \\frac{{\\dot z}_{2} {l}_{0}^{2} {m}_{0}}{4} + {\\dot z}_{2} {l}_{0}^{2} {m}_{1}\\\\\\frac{g \\cos{\\left({z}_{1} \\right)} {l}_{1} {m}_{1}}{2} - \\frac{\\sin{\\left({z}_{0} - {z}_{1} \\right)} {l}_{0} {l}_{1} {m}_{1} {z}_{2}^{2}}{2} + \\frac{\\cos{\\left({z}_{0} - {z}_{1} \\right)} {\\dot z}_{2} {l}_{0} {l}_{1} {m}_{1}}{2} + {I}_{1} {\\dot z}_{3} + \\frac{{\\dot z}_{3} {l}_{1}^{2} {m}_{1}}{4}\\end{matrix}\\right]$"
      ],
      "text/plain": [
       "Matrix([\n",
       "[g*cos(z[0])*l[0]*m[0]/2 + g*cos(z[0])*l[0]*m[1] + sin(z[0] - z[1])*l[0]*l[1]*m[1]*z[3]**2/2 + cos(z[0] - z[1])*\\dot z[3]*l[0]*l[1]*m[1]/2 + I[0]*\\dot z[2] + \\dot z[2]*l[0]**2*m[0]/4 + \\dot z[2]*l[0]**2*m[1]],\n",
       "[                                                 g*cos(z[1])*l[1]*m[1]/2 - sin(z[0] - z[1])*l[0]*l[1]*m[1]*z[2]**2/2 + cos(z[0] - z[1])*\\dot z[2]*l[0]*l[1]*m[1]/2 + I[1]*\\dot z[3] + \\dot z[3]*l[1]**2*m[1]/4]])"
      ]
     },
     "execution_count": 29,
     "metadata": {},
     "output_type": "execute_result"
    }
   ],
   "source": [
    "z = sympy.IndexedBase('z')\n",
    "dot_z = sympy.IndexedBase('\\dot z')\n",
    "\n",
    "for i in range(links_count):\n",
    "    for j in range(links_count):\n",
    "        tau_vec[i] = tau_vec[i].subs(sympy.diff(q[j], (t,2)), dot_z[links_count + j])\n",
    "        tau_vec[i] = tau_vec[i].subs(sympy.diff(q[j], t), z[links_count + j])\n",
    "        tau_vec[i] = tau_vec[i].subs(q[j], z[j])\n",
    "\n",
    "sympy.simplify(tau_vec)"
   ]
  },
  {
   "cell_type": "code",
   "execution_count": 43,
   "metadata": {},
   "outputs": [
    {
     "data": {
      "text/latex": [
       "$\\displaystyle \\left[\\begin{matrix}{I}_{0} + \\frac{{l}_{0}^{2} {m}_{0}}{4} + {l}_{0}^{2} {m}_{1} & \\frac{\\cos{\\left({z}_{0} - {z}_{1} \\right)} {l}_{0} {l}_{1} {m}_{1}}{2}\\\\\\frac{\\cos{\\left({z}_{0} - {z}_{1} \\right)} {l}_{0} {l}_{1} {m}_{1}}{2} & {I}_{1} + \\frac{{l}_{1}^{2} {m}_{1}}{4}\\end{matrix}\\right]$"
      ],
      "text/plain": [
       "Matrix([\n",
       "[I[0] + l[0]**2*m[0]/4 + l[0]**2*m[1], cos(z[0] - z[1])*l[0]*l[1]*m[1]/2],\n",
       "[   cos(z[0] - z[1])*l[0]*l[1]*m[1]/2,             I[1] + l[1]**2*m[1]/4]])"
      ]
     },
     "execution_count": 43,
     "metadata": {},
     "output_type": "execute_result"
    }
   ],
   "source": [
    "M = sympy.matrices.Matrix([\n",
    "    [\n",
    "        sympy.collect(sympy.simplify(tau_vec[i]).expand(), dot_z[links_count+j]).coeff(dot_z[links_count+j], 1)\n",
    "        for j in range(links_count)\n",
    "    ]\n",
    "    for i in range(links_count)\n",
    "])\n",
    "\n",
    "M"
   ]
  },
  {
   "cell_type": "code",
   "execution_count": 47,
   "metadata": {},
   "outputs": [
    {
     "data": {
      "text/latex": [
       "$\\displaystyle \\left[\\begin{matrix}\\frac{g \\cos{\\left({z}_{0} \\right)} {l}_{0} {m}_{0}}{2} + g \\cos{\\left({z}_{0} \\right)} {l}_{0} {m}_{1} + \\frac{\\sin{\\left({z}_{0} - {z}_{1} \\right)} {l}_{0} {l}_{1} {m}_{1} {z}_{3}^{2}}{2}\\\\\\frac{g \\cos{\\left({z}_{1} \\right)} {l}_{1} {m}_{1}}{2} - \\frac{\\sin{\\left({z}_{0} - {z}_{1} \\right)} {l}_{0} {l}_{1} {m}_{1} {z}_{2}^{2}}{2}\\end{matrix}\\right]$"
      ],
      "text/plain": [
       "Matrix([\n",
       "[g*cos(z[0])*l[0]*m[0]/2 + g*cos(z[0])*l[0]*m[1] + sin(z[0] - z[1])*l[0]*l[1]*m[1]*z[3]**2/2],\n",
       "[                        g*cos(z[1])*l[1]*m[1]/2 - sin(z[0] - z[1])*l[0]*l[1]*m[1]*z[2]**2/2]])"
      ]
     },
     "execution_count": 47,
     "metadata": {},
     "output_type": "execute_result"
    }
   ],
   "source": [
    "def remove_order(expr):\n",
    "    for i in range(links_count):\n",
    "        expr = sympy.simplify(expr).expand()\n",
    "        expr = sympy.collect(expr, dot_z[links_count+i]).coeff(dot_z[links_count+i], 0)\n",
    "    return expr\n",
    "\n",
    "L = sympy.matrices.Matrix([\n",
    "    remove_order(tau_vec[i])\n",
    "    for i in range(links_count)\n",
    "])\n",
    "\n",
    "L"
   ]
  },
  {
   "cell_type": "code",
   "execution_count": 50,
   "metadata": {},
   "outputs": [
    {
     "data": {
      "text/latex": [
       "$\\displaystyle \\left[\\begin{matrix}\\frac{16 {I}_{1} + 4 {l}_{1}^{2} {m}_{1}}{\\left(4 {I}_{1} + {l}_{1}^{2} {m}_{1}\\right) \\left(4 {I}_{0} + {l}_{0}^{2} {m}_{0} + 4 {l}_{0}^{2} {m}_{1}\\right) - 4 \\cos^{2}{\\left({z}_{0} - {z}_{1} \\right)} {l}_{0}^{2} {l}_{1}^{2} {m}_{1}^{2}} & - \\frac{8 \\cos{\\left({z}_{0} - {z}_{1} \\right)} {l}_{0} {l}_{1} {m}_{1}}{\\left(4 {I}_{1} + {l}_{1}^{2} {m}_{1}\\right) \\left(4 {I}_{0} + {l}_{0}^{2} {m}_{0} + 4 {l}_{0}^{2} {m}_{1}\\right) - 4 \\cos^{2}{\\left({z}_{0} - {z}_{1} \\right)} {l}_{0}^{2} {l}_{1}^{2} {m}_{1}^{2}}\\\\- \\frac{8 \\cos{\\left({z}_{0} - {z}_{1} \\right)} {l}_{0} {l}_{1} {m}_{1}}{\\left(4 {I}_{1} + {l}_{1}^{2} {m}_{1}\\right) \\left(4 {I}_{0} + {l}_{0}^{2} {m}_{0} + 4 {l}_{0}^{2} {m}_{1}\\right) - 4 \\cos^{2}{\\left({z}_{0} - {z}_{1} \\right)} {l}_{0}^{2} {l}_{1}^{2} {m}_{1}^{2}} & \\frac{16 {I}_{0} + 4 {l}_{0}^{2} {m}_{0} + 16 {l}_{0}^{2} {m}_{1}}{\\left(4 {I}_{1} + {l}_{1}^{2} {m}_{1}\\right) \\left(4 {I}_{0} + {l}_{0}^{2} {m}_{0} + 4 {l}_{0}^{2} {m}_{1}\\right) - 4 \\cos^{2}{\\left({z}_{0} - {z}_{1} \\right)} {l}_{0}^{2} {l}_{1}^{2} {m}_{1}^{2}}\\end{matrix}\\right]$"
      ],
      "text/plain": [
       "Matrix([\n",
       "[        (16*I[1] + 4*l[1]**2*m[1])/((4*I[1] + l[1]**2*m[1])*(4*I[0] + l[0]**2*m[0] + 4*l[0]**2*m[1]) - 4*cos(z[0] - z[1])**2*l[0]**2*l[1]**2*m[1]**2),           -8*cos(z[0] - z[1])*l[0]*l[1]*m[1]/((4*I[1] + l[1]**2*m[1])*(4*I[0] + l[0]**2*m[0] + 4*l[0]**2*m[1]) - 4*cos(z[0] - z[1])**2*l[0]**2*l[1]**2*m[1]**2)],\n",
       "[-8*cos(z[0] - z[1])*l[0]*l[1]*m[1]/((4*I[1] + l[1]**2*m[1])*(4*I[0] + l[0]**2*m[0] + 4*l[0]**2*m[1]) - 4*cos(z[0] - z[1])**2*l[0]**2*l[1]**2*m[1]**2), (16*I[0] + 4*l[0]**2*m[0] + 16*l[0]**2*m[1])/((4*I[1] + l[1]**2*m[1])*(4*I[0] + l[0]**2*m[0] + 4*l[0]**2*m[1]) - 4*cos(z[0] - z[1])**2*l[0]**2*l[1]**2*m[1]**2)]])"
      ]
     },
     "execution_count": 50,
     "metadata": {},
     "output_type": "execute_result"
    }
   ],
   "source": [
    "M_inv = sympy.simplify(M.inv(method='LU'))\n",
    "M_inv"
   ]
  },
  {
   "attachments": {},
   "cell_type": "markdown",
   "metadata": {},
   "source": [
    "$$\n",
    "    \\dot z = f(z, u)\n",
    "$$"
   ]
  },
  {
   "cell_type": "code",
   "execution_count": 57,
   "metadata": {},
   "outputs": [
    {
     "data": {
      "text/latex": [
       "$\\displaystyle \\left[\\begin{matrix}{z}_{2}\\\\{z}_{3}\\\\\\frac{\\left(16 {I}_{1} + 4 {l}_{1}^{2} {m}_{1}\\right) \\left(- \\frac{g \\cos{\\left({z}_{0} \\right)} {l}_{0} {m}_{0}}{2} - g \\cos{\\left({z}_{0} \\right)} {l}_{0} {m}_{1} - \\frac{\\sin{\\left({z}_{0} - {z}_{1} \\right)} {l}_{0} {l}_{1} {m}_{1} {z}_{3}^{2}}{2} + {u}_{0}\\right)}{\\left(4 {I}_{1} + {l}_{1}^{2} {m}_{1}\\right) \\left(4 {I}_{0} + {l}_{0}^{2} {m}_{0} + 4 {l}_{0}^{2} {m}_{1}\\right) - 4 \\cos^{2}{\\left({z}_{0} - {z}_{1} \\right)} {l}_{0}^{2} {l}_{1}^{2} {m}_{1}^{2}} - \\frac{8 \\left(- \\frac{g \\cos{\\left({z}_{1} \\right)} {l}_{1} {m}_{1}}{2} + \\frac{\\sin{\\left({z}_{0} - {z}_{1} \\right)} {l}_{0} {l}_{1} {m}_{1} {z}_{2}^{2}}{2} + {u}_{1}\\right) \\cos{\\left({z}_{0} - {z}_{1} \\right)} {l}_{0} {l}_{1} {m}_{1}}{\\left(4 {I}_{1} + {l}_{1}^{2} {m}_{1}\\right) \\left(4 {I}_{0} + {l}_{0}^{2} {m}_{0} + 4 {l}_{0}^{2} {m}_{1}\\right) - 4 \\cos^{2}{\\left({z}_{0} - {z}_{1} \\right)} {l}_{0}^{2} {l}_{1}^{2} {m}_{1}^{2}}\\\\\\frac{\\left(- \\frac{g \\cos{\\left({z}_{1} \\right)} {l}_{1} {m}_{1}}{2} + \\frac{\\sin{\\left({z}_{0} - {z}_{1} \\right)} {l}_{0} {l}_{1} {m}_{1} {z}_{2}^{2}}{2} + {u}_{1}\\right) \\left(16 {I}_{0} + 4 {l}_{0}^{2} {m}_{0} + 16 {l}_{0}^{2} {m}_{1}\\right)}{\\left(4 {I}_{1} + {l}_{1}^{2} {m}_{1}\\right) \\left(4 {I}_{0} + {l}_{0}^{2} {m}_{0} + 4 {l}_{0}^{2} {m}_{1}\\right) - 4 \\cos^{2}{\\left({z}_{0} - {z}_{1} \\right)} {l}_{0}^{2} {l}_{1}^{2} {m}_{1}^{2}} - \\frac{8 \\left(- \\frac{g \\cos{\\left({z}_{0} \\right)} {l}_{0} {m}_{0}}{2} - g \\cos{\\left({z}_{0} \\right)} {l}_{0} {m}_{1} - \\frac{\\sin{\\left({z}_{0} - {z}_{1} \\right)} {l}_{0} {l}_{1} {m}_{1} {z}_{3}^{2}}{2} + {u}_{0}\\right) \\cos{\\left({z}_{0} - {z}_{1} \\right)} {l}_{0} {l}_{1} {m}_{1}}{\\left(4 {I}_{1} + {l}_{1}^{2} {m}_{1}\\right) \\left(4 {I}_{0} + {l}_{0}^{2} {m}_{0} + 4 {l}_{0}^{2} {m}_{1}\\right) - 4 \\cos^{2}{\\left({z}_{0} - {z}_{1} \\right)} {l}_{0}^{2} {l}_{1}^{2} {m}_{1}^{2}}\\end{matrix}\\right]$"
      ],
      "text/plain": [
       "Matrix([\n",
       "[                                                                                                                                                                                                                                                                                                                                                                                                                                                                                                      z[2]],\n",
       "[                                                                                                                                                                                                                                                                                                                                                                                                                                                                                                      z[3]],\n",
       "[                  (16*I[1] + 4*l[1]**2*m[1])*(-g*cos(z[0])*l[0]*m[0]/2 - g*cos(z[0])*l[0]*m[1] - sin(z[0] - z[1])*l[0]*l[1]*m[1]*z[3]**2/2 + u[0])/((4*I[1] + l[1]**2*m[1])*(4*I[0] + l[0]**2*m[0] + 4*l[0]**2*m[1]) - 4*cos(z[0] - z[1])**2*l[0]**2*l[1]**2*m[1]**2) - 8*(-g*cos(z[1])*l[1]*m[1]/2 + sin(z[0] - z[1])*l[0]*l[1]*m[1]*z[2]**2/2 + u[1])*cos(z[0] - z[1])*l[0]*l[1]*m[1]/((4*I[1] + l[1]**2*m[1])*(4*I[0] + l[0]**2*m[0] + 4*l[0]**2*m[1]) - 4*cos(z[0] - z[1])**2*l[0]**2*l[1]**2*m[1]**2)],\n",
       "[(-g*cos(z[1])*l[1]*m[1]/2 + sin(z[0] - z[1])*l[0]*l[1]*m[1]*z[2]**2/2 + u[1])*(16*I[0] + 4*l[0]**2*m[0] + 16*l[0]**2*m[1])/((4*I[1] + l[1]**2*m[1])*(4*I[0] + l[0]**2*m[0] + 4*l[0]**2*m[1]) - 4*cos(z[0] - z[1])**2*l[0]**2*l[1]**2*m[1]**2) - 8*(-g*cos(z[0])*l[0]*m[0]/2 - g*cos(z[0])*l[0]*m[1] - sin(z[0] - z[1])*l[0]*l[1]*m[1]*z[3]**2/2 + u[0])*cos(z[0] - z[1])*l[0]*l[1]*m[1]/((4*I[1] + l[1]**2*m[1])*(4*I[0] + l[0]**2*m[0] + 4*l[0]**2*m[1]) - 4*cos(z[0] - z[1])**2*l[0]**2*l[1]**2*m[1]**2)]])"
      ]
     },
     "execution_count": 57,
     "metadata": {},
     "output_type": "execute_result"
    }
   ],
   "source": [
    "u = sympy.IndexedBase('u')\n",
    "\n",
    "u_vec = sympy.Matrix([\n",
    "    u[i]\n",
    "    for i in range(links_count)\n",
    "])\n",
    "\n",
    "f = sympy.Matrix([z[links_count + i] for i in range(links_count)])\n",
    "f = f.col_join(M_inv * (u_vec - L))\n",
    "\n",
    "f"
   ]
  },
  {
   "attachments": {},
   "cell_type": "markdown",
   "metadata": {},
   "source": [
    "$$\n",
    "    \\dot z = a(x) + b(x)u\n",
    "$$"
   ]
  },
  {
   "cell_type": "code",
   "execution_count": 60,
   "metadata": {},
   "outputs": [
    {
     "data": {
      "text/latex": [
       "$\\displaystyle \\left[\\begin{matrix}{z}_{2}\\\\{z}_{3}\\\\\\frac{2 \\cdot \\left(2 \\left(g \\cos{\\left({z}_{1} \\right)} - \\sin{\\left({z}_{0} - {z}_{1} \\right)} {l}_{0} {z}_{2}^{2}\\right) \\cos{\\left({z}_{0} - {z}_{1} \\right)} {l}_{1}^{2} {m}_{1}^{2} - \\left(4 {I}_{1} + {l}_{1}^{2} {m}_{1}\\right) \\left(g \\cos{\\left({z}_{0} \\right)} {m}_{0} + 2 g \\cos{\\left({z}_{0} \\right)} {m}_{1} + \\sin{\\left({z}_{0} - {z}_{1} \\right)} {l}_{1} {m}_{1} {z}_{3}^{2}\\right)\\right) {l}_{0}}{\\left(4 {I}_{1} + {l}_{1}^{2} {m}_{1}\\right) \\left(4 {I}_{0} + {l}_{0}^{2} {m}_{0} + 4 {l}_{0}^{2} {m}_{1}\\right) - 4 \\cos^{2}{\\left({z}_{0} - {z}_{1} \\right)} {l}_{0}^{2} {l}_{1}^{2} {m}_{1}^{2}}\\\\\\frac{2 \\left(- \\left(g \\cos{\\left({z}_{1} \\right)} - \\sin{\\left({z}_{0} - {z}_{1} \\right)} {l}_{0} {z}_{2}^{2}\\right) \\left(4 {I}_{0} + {l}_{0}^{2} {m}_{0} + 4 {l}_{0}^{2} {m}_{1}\\right) + 2 \\left(g \\cos{\\left({z}_{0} \\right)} {m}_{0} + 2 g \\cos{\\left({z}_{0} \\right)} {m}_{1} + \\sin{\\left({z}_{0} - {z}_{1} \\right)} {l}_{1} {m}_{1} {z}_{3}^{2}\\right) \\cos{\\left({z}_{0} - {z}_{1} \\right)} {l}_{0}^{2}\\right) {l}_{1} {m}_{1}}{\\left(4 {I}_{1} + {l}_{1}^{2} {m}_{1}\\right) \\left(4 {I}_{0} + {l}_{0}^{2} {m}_{0} + 4 {l}_{0}^{2} {m}_{1}\\right) - 4 \\cos^{2}{\\left({z}_{0} - {z}_{1} \\right)} {l}_{0}^{2} {l}_{1}^{2} {m}_{1}^{2}}\\end{matrix}\\right]$"
      ],
      "text/plain": [
       "Matrix([\n",
       "[                                                                                                                                                                                                                                                                                                                              z[2]],\n",
       "[                                                                                                                                                                                                                                                                                                                              z[3]],\n",
       "[               2*(2*(g*cos(z[1]) - sin(z[0] - z[1])*l[0]*z[2]**2)*cos(z[0] - z[1])*l[1]**2*m[1]**2 - (4*I[1] + l[1]**2*m[1])*(g*cos(z[0])*m[0] + 2*g*cos(z[0])*m[1] + sin(z[0] - z[1])*l[1]*m[1]*z[3]**2))*l[0]/((4*I[1] + l[1]**2*m[1])*(4*I[0] + l[0]**2*m[0] + 4*l[0]**2*m[1]) - 4*cos(z[0] - z[1])**2*l[0]**2*l[1]**2*m[1]**2)],\n",
       "[2*(-(g*cos(z[1]) - sin(z[0] - z[1])*l[0]*z[2]**2)*(4*I[0] + l[0]**2*m[0] + 4*l[0]**2*m[1]) + 2*(g*cos(z[0])*m[0] + 2*g*cos(z[0])*m[1] + sin(z[0] - z[1])*l[1]*m[1]*z[3]**2)*cos(z[0] - z[1])*l[0]**2)*l[1]*m[1]/((4*I[1] + l[1]**2*m[1])*(4*I[0] + l[0]**2*m[0] + 4*l[0]**2*m[1]) - 4*cos(z[0] - z[1])**2*l[0]**2*l[1]**2*m[1]**2)]])"
      ]
     },
     "execution_count": 60,
     "metadata": {},
     "output_type": "execute_result"
    }
   ],
   "source": [
    "a = sympy.Matrix([z[links_count + i] for i in range(links_count)])\n",
    "a = a.col_join(sympy.simplify(- M_inv * L))\n",
    "a"
   ]
  },
  {
   "cell_type": "code",
   "execution_count": 61,
   "metadata": {},
   "outputs": [
    {
     "data": {
      "text/latex": [
       "$\\displaystyle \\left[\\begin{matrix}0 & 0\\\\0 & 0\\\\\\frac{16 {I}_{1} + 4 {l}_{1}^{2} {m}_{1}}{\\left(4 {I}_{1} + {l}_{1}^{2} {m}_{1}\\right) \\left(4 {I}_{0} + {l}_{0}^{2} {m}_{0} + 4 {l}_{0}^{2} {m}_{1}\\right) - 4 \\cos^{2}{\\left({z}_{0} - {z}_{1} \\right)} {l}_{0}^{2} {l}_{1}^{2} {m}_{1}^{2}} & - \\frac{8 \\cos{\\left({z}_{0} - {z}_{1} \\right)} {l}_{0} {l}_{1} {m}_{1}}{\\left(4 {I}_{1} + {l}_{1}^{2} {m}_{1}\\right) \\left(4 {I}_{0} + {l}_{0}^{2} {m}_{0} + 4 {l}_{0}^{2} {m}_{1}\\right) - 4 \\cos^{2}{\\left({z}_{0} - {z}_{1} \\right)} {l}_{0}^{2} {l}_{1}^{2} {m}_{1}^{2}}\\\\- \\frac{8 \\cos{\\left({z}_{0} - {z}_{1} \\right)} {l}_{0} {l}_{1} {m}_{1}}{\\left(4 {I}_{1} + {l}_{1}^{2} {m}_{1}\\right) \\left(4 {I}_{0} + {l}_{0}^{2} {m}_{0} + 4 {l}_{0}^{2} {m}_{1}\\right) - 4 \\cos^{2}{\\left({z}_{0} - {z}_{1} \\right)} {l}_{0}^{2} {l}_{1}^{2} {m}_{1}^{2}} & \\frac{16 {I}_{0} + 4 {l}_{0}^{2} {m}_{0} + 16 {l}_{0}^{2} {m}_{1}}{\\left(4 {I}_{1} + {l}_{1}^{2} {m}_{1}\\right) \\left(4 {I}_{0} + {l}_{0}^{2} {m}_{0} + 4 {l}_{0}^{2} {m}_{1}\\right) - 4 \\cos^{2}{\\left({z}_{0} - {z}_{1} \\right)} {l}_{0}^{2} {l}_{1}^{2} {m}_{1}^{2}}\\end{matrix}\\right]$"
      ],
      "text/plain": [
       "Matrix([\n",
       "[                                                                                                                                                    0,                                                                                                                                                               0],\n",
       "[                                                                                                                                                    0,                                                                                                                                                               0],\n",
       "[        (16*I[1] + 4*l[1]**2*m[1])/((4*I[1] + l[1]**2*m[1])*(4*I[0] + l[0]**2*m[0] + 4*l[0]**2*m[1]) - 4*cos(z[0] - z[1])**2*l[0]**2*l[1]**2*m[1]**2),           -8*cos(z[0] - z[1])*l[0]*l[1]*m[1]/((4*I[1] + l[1]**2*m[1])*(4*I[0] + l[0]**2*m[0] + 4*l[0]**2*m[1]) - 4*cos(z[0] - z[1])**2*l[0]**2*l[1]**2*m[1]**2)],\n",
       "[-8*cos(z[0] - z[1])*l[0]*l[1]*m[1]/((4*I[1] + l[1]**2*m[1])*(4*I[0] + l[0]**2*m[0] + 4*l[0]**2*m[1]) - 4*cos(z[0] - z[1])**2*l[0]**2*l[1]**2*m[1]**2), (16*I[0] + 4*l[0]**2*m[0] + 16*l[0]**2*m[1])/((4*I[1] + l[1]**2*m[1])*(4*I[0] + l[0]**2*m[0] + 4*l[0]**2*m[1]) - 4*cos(z[0] - z[1])**2*l[0]**2*l[1]**2*m[1]**2)]])"
      ]
     },
     "execution_count": 61,
     "metadata": {},
     "output_type": "execute_result"
    }
   ],
   "source": [
    "b = sympy.zeros(links_count, links_count)\n",
    "\n",
    "b = b.col_join(M_inv)\n",
    "b"
   ]
  }
 ],
 "metadata": {
  "kernelspec": {
   "display_name": "Python 3",
   "language": "python",
   "name": "python3"
  },
  "language_info": {
   "codemirror_mode": {
    "name": "ipython",
    "version": 3
   },
   "file_extension": ".py",
   "mimetype": "text/x-python",
   "name": "python",
   "nbconvert_exporter": "python",
   "pygments_lexer": "ipython3",
   "version": "3.9.6"
  },
  "orig_nbformat": 4
 },
 "nbformat": 4,
 "nbformat_minor": 2
}
